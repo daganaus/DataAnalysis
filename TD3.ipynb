{
 "cells": [
  {
   "cell_type": "markdown",
   "id": "d3c8850c-595a-440f-bcc7-88d41cadb3d0",
   "metadata": {},
   "source": [
    "## Méthode de la transformation (TD3 Exo 2)\n",
    "\n",
    "**Soit $X$ une variable aléatoire ayant pour fonction de distribution (aussi appelée fonction de répartition)**\n",
    "$$F(x) = (1 - \\exp{(-\\alpha x^\\beta)})\\,\\,\\,\\, \\text{ pour $x > 0$ où $\\alpha$ et $\\beta$ sont des paramètres $> 0$.}$$\n",
    "\n",
    "- Programmer une méthode MC pour générer une séquence de nombres aléatoires distribués selon cette loi. "
   ]
  },
  {
   "cell_type": "code",
   "execution_count": null,
   "id": "983819fb-cea8-4981-9247-7bec95bc2873",
   "metadata": {},
   "outputs": [],
   "source": []
  },
  {
   "cell_type": "markdown",
   "id": "96a16529-ae23-4466-92e4-6190fe62ad3b",
   "metadata": {},
   "source": [
    "## Simulation de la loi de Breit-Wigner (TD3 Exo 3)\n",
    "\n",
    "**La loi de Breit-Wigner est utilisée pour décrire des sections efficaces en physique nucléaire, comme l'interaction d'un neutron avec un noyau atomique au voisinage de l'énergie de résonnance**\n",
    "\n",
    "**La variable aléatoire $X$ ayant pour fonction densité de probabilité (loi de BreitWigner) :**\n",
    "$$f(x) = \\frac{1}{\\pi} \\frac{\\Gamma/2}{(\\Gamma/2)^2 +(x-\\mu)^2 } $$\n",
    "\n",
    "- Programmer une méthode MC pour générer une séquence de nombres aléatoires distribués selon cette loi. "
   ]
  },
  {
   "cell_type": "code",
   "execution_count": null,
   "id": "67da5b4f-b8f7-42c6-a1c6-7b575331158e",
   "metadata": {},
   "outputs": [],
   "source": []
  },
  {
   "cell_type": "markdown",
   "id": "cdfdfecc-7e60-41a5-a212-6339e8e361e9",
   "metadata": {},
   "source": [
    "## Conditionnement et inversion (TD3 Exo 4)\n",
    "\n",
    "**Soient les variables aléatoires $(X, Y)$ ayant pour fonction densité de probabilité jointe : **\n",
    "$$f(x,y)=y x^{y-1} e^{-y} \\,\\,\\,\\,\\text{ pour $y>0$ et $0<x<1$.}$$\n",
    "\n",
    "- Proposer une méthode pour générer une séquence de nombres aléatoires $(x,y)$ distribués selon cette loi.\n"
   ]
  },
  {
   "cell_type": "code",
   "execution_count": null,
   "id": "85b16069-5fe9-4bf4-af1f-d4dd36f6e3d6",
   "metadata": {},
   "outputs": [],
   "source": []
  },
  {
   "cell_type": "markdown",
   "id": "7902d6b8-c847-42b8-9192-941d8cd5464b",
   "metadata": {},
   "source": [
    "## Monte Carlo & Test de conformité (TD3 Exo 5) : \n",
    "\n",
    "Comme d'habitude, nous souhaitons acheter une perceuse, mais nous hésitons entre 2 modèles. Afin de se faire une idée, nous regardons la distribution des notes sur un site d'achat. Ces notes vont de 0 à 5 étoiles.\n"
   ]
  },
  {
   "cell_type": "code",
   "execution_count": 17,
   "id": "f7cd7f37-8554-4cc6-843e-fe7e909e37bd",
   "metadata": {},
   "outputs": [
    {
     "data": {
      "image/png": "[encoded data removed]",
      "text/plain": [
       "<Figure size 1080x360 with 2 Axes>"
      ]
     },
     "metadata": {
      "needs_background": "light"
     },
     "output_type": "display_data"
    }
   ],
   "source": [
    "# Code pour afficher la distribution des notes\n",
    "import numpy as np\n",
    "import matplotlib.pyplot as plt\n",
    "\n",
    "notes = np.array([0,1,2,3,4,5])\n",
    "distrib1 = np.array([37,85,185,360,200,133])\n",
    "distrib2 = np.array([4,4,19,30,27,16])\n",
    "\n",
    "fig, axes = plt.subplots(1,2, figsize=(15, 5))\n",
    "axes[0].title.set_text(\"Perçeuse 1\")\n",
    "#sns.barplot(x=notes,y=distrib1,ax=axes[0])\n",
    "axes[0].bar(notes,distrib1)\n",
    "axes[1].title.set_text(\"Perçeuse 2\")\n",
    "axes[1].bar(notes,distrib2)\n",
    "#sns.barplot(x=notes,y=distrib2,ax=axes[1])\n",
    "plt.draw()"
   ]
  },
  {
   "cell_type": "markdown",
   "id": "36ca78c8-9da8-42e1-b8d7-677d8916c088",
   "metadata": {},
   "source": [
    "La perçeuse 1 a une note moyenne de 3.0 étoiles pour 1000 avis, alors que la perçeuse 2 a une note de 3.2 étoiles pour seulement 100 avis.\n",
    "\n",
    "* écrivez un code qui vérifie ces statistiques et ces deux moyennes\n",
    "\n",
    "* Avec une approche MC obtenez la distribution de la note moyenne que l'on aurait obetnue avec seulement 100 notes tirées dans la distrubition 1\n",
    "\n",
    "* Utilisez cette moyenne comme test statistique pour tester l'hypothese que la note moyenne obtenue sur la perçeuse 2 est coforme à la distribution 1    \n",
    "\n"
   ]
  },
  {
   "cell_type": "code",
   "execution_count": null,
   "id": "27f9acf5-2689-42a1-a27e-0f674b6398b3",
   "metadata": {},
   "outputs": [],
   "source": []
  }
 ],
 "metadata": {
  "kernelspec": {
   "display_name": "Python 3 (ipykernel)",
   "language": "python",
   "name": "python3"
  },
  "language_info": {
   "codemirror_mode": {
    "name": "ipython",
    "version": 3
   },
   "file_extension": ".py",
   "mimetype": "text/x-python",
   "name": "python",
   "nbconvert_exporter": "python",
   "pygments_lexer": "ipython3",
   "version": "3.9.12"
  }
 },
 "nbformat": 4,
 "nbformat_minor": 5
}
