{
 "cells": [
  {
   "cell_type": "code",
   "execution_count": 1,
   "id": "618db89b-c7c1-4307-9713-f0bf34870899",
   "metadata": {},
   "outputs": [],
   "source": [
    "# importation des librairies usuelles\n",
    "import matplotlib.pyplot as plt\n",
    "import numpy as np\n",
    "import scipy.stats as stats\n",
    "#from scipy.special import factorial"
   ]
  },
  {
   "cell_type": "markdown",
   "id": "bbb64bb0-cc02-4c6f-9bb7-6feb161e5c75",
   "metadata": {
    "jp-MarkdownHeadingCollapsed": true
   },
   "source": [
    "### Somme de distributions uniformes (Exo3)\n",
    "\n",
    "Soit la variable aléatoire :\n",
    "$$ Z =  \\frac{1}{\\sqrt{n}} \\sum_{i=1}^{n} X_i $$\n",
    "où les $X_i$ sont des variables aléatoires de distribution uniforme entre $-\\frac{1}{2}$ et $\\frac{1}{2}$.\n",
    "\n",
    "* Retrouver le théorème de la limite centrale pour cette distribution.\n",
    "\n",
    "* Vérifier ce résultat par Monte-Carlo avec un code *python*. On pourra utiliser le jupyter-notebook TD1 et la librairie *numpy*.\n"
   ]
  },
  {
   "cell_type": "code",
   "execution_count": 2,
   "id": "67db5800-ec4e-4a8d-9908-3c20bd91b0f4",
   "metadata": {},
   "outputs": [],
   "source": []
  },
  {
   "cell_type": "markdown",
   "id": "1570e1f2-c5bf-4209-a59b-b5275d908d2c",
   "metadata": {
    "jp-MarkdownHeadingCollapsed": true
   },
   "source": [
    "### Intégration Monte Carlo (Exo 4)\n",
    "\n",
    "A partir de maintenant, nous allons utiliser la librarie *scipy* pour générer des v. a. distribuées sur des lois classiques. En particulier, pour générer des nombres uniformes, on va utiliser les lignes suivantes : "
   ]
  },
  {
   "cell_type": "code",
   "execution_count": 2,
   "id": "7c4975b0-6bb4-4a86-9dae-e9040beab4ed",
   "metadata": {},
   "outputs": [
    {
     "data": {
      "image/png": "[encoded data removed]",
      "text/plain": [
       "<Figure size 432x288 with 1 Axes>"
      ]
     },
     "metadata": {
      "needs_background": "light"
     },
     "output_type": "display_data"
    }
   ],
   "source": [
    "unif = stats.uniform() # création du générateurs [0,1]\n",
    "sample = unif.rvs(size=10000) # tirage d'une liste de 10000 nombres\n",
    "\n",
    "\n",
    "# voici un code pour récupérer la pdf de scipy, l'afficher ainsi que l'histogramme normalisé des 10000 tirages obtenus\n",
    "x = np.linspace(0,1, 100)\n",
    "plt.plot(x,unif.pdf(x),'r-', lw=5, alpha=0.6, label='pdf') # récupération et affichage de la pdf\n",
    "plt.hist(sample, density=True, histtype='stepfilled', alpha=0.2,label=\"norm sample\") # affichage de l'histogramme\n",
    "plt.legend(loc='best', frameon=False)\n",
    "plt.show()"
   ]
  },
  {
   "cell_type": "markdown",
   "id": "c9426328-0a6b-4311-9aca-88ae81f809bf",
   "metadata": {},
   "source": [
    "* A partir du code présédent, estimer par Monte Carlo $\\tilde{I}$ la valeur de l'intégrale suivante :\n",
    "\n",
    "$$ I = \\int_0^1 f(x)\\,dx = \\int_0^1 x (1-x)\\,dx=\\frac{1}{6}$$\n",
    "\n",
    "* Calculer l'incertitude $\\Delta \\tilde{I}$ associée à l'estimation obtenue\n",
    "* Sur un même graphique, afficher $f(x)$ ainsi que les points générer par le MC (en rouge les points rejetés, en vert les points acceptés)"
   ]
  },
  {
   "cell_type": "code",
   "execution_count": null,
   "id": "7a649f55-2bb3-4748-83cf-24906553564c",
   "metadata": {},
   "outputs": [],
   "source": []
  },
  {
   "cell_type": "markdown",
   "id": "bef7d882-9b8c-4d06-9e45-050450dd95ce",
   "metadata": {},
   "source": [
    "### Loi du $\\chi^2$ (Exo 5):\n",
    "\n",
    "Soit un vecteur aléatoire $\\vec{X}(X_1,...,X_n)$ à $n$ dimensions tel que pour $\\forall i$:\n",
    "$$ X_i \\sim \\mathcal{N}(0,1)$$\n",
    "\n",
    "Les $X_i$ sont indépendants. Le code suivant permet de générer ces vecteurs :"
   ]
  },
  {
   "cell_type": "code",
   "execution_count": 4,
   "id": "ae24d911-c4c8-420a-856a-513b82bb3ad6",
   "metadata": {},
   "outputs": [],
   "source": [
    "nb = 1000 # nombre de vecteurs aléatoires à tirer\n",
    "n=10 # dimension du vecteur aléatoire\n",
    "means = np.zeros(n) # vecteur des espérances à n dimensions\n",
    "sigmas = np.ones(n) # vecteur des variances à n dimensions\n",
    "\n",
    "norm = stats.multivariate_normal(means,sigmas) # création du générateur avec une loi normale dans chaque dimension\n",
    "x = norm.rvs(size=nb) # tirage de nb vecteurs aléatoires"
   ]
  },
  {
   "cell_type": "markdown",
   "id": "b6ce2508-ffec-4da8-8be5-97b62b294d89",
   "metadata": {},
   "source": [
    "\n",
    "* vérifier que la somme des $X_i^2$ suit une loi de $\\chi^2$ à $n$ dimensions:\n",
    "$$ \\sum_i \\frac{(X_i-\\mu)^2}{\\sigma^2}= \\sum_i X_i^2 \\sim \\chi^2_{(n)}$$"
   ]
  },
  {
   "cell_type": "code",
   "execution_count": null,
   "id": "bb215953-bd3e-4fe5-8515-6bafaddb42a0",
   "metadata": {},
   "outputs": [],
   "source": []
  },
  {
   "cell_type": "markdown",
   "id": "0f4863cb-bfa0-4add-9a25-18176d60879f",
   "metadata": {
    "jp-MarkdownHeadingCollapsed": true
   },
   "source": [
    "### Ecrire un générateur uniforme [0,1] (exo 6)\n",
    "\n",
    "Ecrire un générateur de Park & Miller :\n",
    "\n",
    "$$n_{i+1} = 16807 \\times n_i \\mod{(2^{31}-1)}$$\n",
    "\n",
    "* Ecrire l'algorithme de Park & Miller pour fabriquer une liste de 10000 nombres aléatoires $\\in [0,1]$\n",
    "* Afficher l'histogramme des valeurs obtenus grâce à l'histogramme de matplotlib.pyplot"
   ]
  },
  {
   "cell_type": "code",
   "execution_count": null,
   "id": "4e6d2f92-eb2e-4b81-90fa-7620266968a5",
   "metadata": {},
   "outputs": [],
   "source": []
  },
  {
   "cell_type": "markdown",
   "id": "d08f04c7-5f04-4485-a8d6-0b0ea76635ba",
   "metadata": {},
   "source": [
    "* calculer la longueur des séquences croissantes \n",
    "* comparer l'histogramme obtenu à la probabilité théorique :\n",
    "\n",
    "$$ p(s) = \\frac{1}{s!}-\\frac{1}{(s-1)!} $$"
   ]
  },
  {
   "cell_type": "code",
   "execution_count": null,
   "id": "1007f8db-33df-489e-99d3-ab0acf0c7956",
   "metadata": {},
   "outputs": [],
   "source": []
  },
  {
   "cell_type": "markdown",
   "id": "cfde23bf-39ea-4bf5-82fd-d4ec796b3c39",
   "metadata": {
    "jp-MarkdownHeadingCollapsed": true
   },
   "source": [
    "* Pour ceux qui maitrisent python, vous pouvez maintenant reprendre votre générateur et l'intégrer dans une class python"
   ]
  }
 ],
 "metadata": {
  "kernelspec": {
   "display_name": "Python 3",
   "language": "python",
   "name": "python3"
  },
  "language_info": {
   "codemirror_mode": {
    "name": "ipython",
    "version": 3
   },
   "file_extension": ".py",
   "mimetype": "text/x-python",
   "name": "python",
   "nbconvert_exporter": "python",
   "pygments_lexer": "ipython3",
   "version": "3.10.12"
  }
 },
 "nbformat": 4,
 "nbformat_minor": 5
}
