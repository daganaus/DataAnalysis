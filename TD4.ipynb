{
 "cells": [
  {
   "cell_type": "code",
   "execution_count": 5,
   "id": "3e38849b-beb9-486a-82c5-ab93b9172ad2",
   "metadata": {},
   "outputs": [],
   "source": [
    "import matplotlib.pyplot as plt\n",
    "import numpy as np\n",
    "import scipy.stats as stats"
   ]
  },
  {
   "cell_type": "markdown",
   "id": "0094be08-115d-4fff-8877-d1e343136d16",
   "metadata": {},
   "source": [
    "## Estimation et tests hypothèses simples (TD4 exo1)\n",
    "\n",
    "Dans un centre avicole, des études antérieures ont montré que la masse d’un oeuf choisi au hasard peut être considérée comme la réalisation d’une variable aléatoire normale $X$, de moyenne $m$ et de variance $\\sigma^2$. On admet que les masses des oeufs sont indépendantes les unes des autres. On prend un échantillon de $n = 36$ oeufs que l’on pèse. Les mesures sont données (par ordre croissant) dans le tableau suivant :"
   ]
  },
  {
   "cell_type": "code",
   "execution_count": 12,
   "id": "72dfe40c-5d33-405a-87a3-7f5a675dcee7",
   "metadata": {},
   "outputs": [],
   "source": [
    "data = np.array([50.34, 52.62, 53.79, 54.99, 55.82, 57.67, 51.41, 53.13, 53.89, 55.04, 55.91, 57.99, 51.51, 53.28, 54.63, 55.12, 55.95, 58.10, 52.07, 53.30, 54.76, 55.24, 57.05, 59.30, 52.22, 53.32, 54.78, 55.28, 57.18, 60.58, 52.38, 53.39, 54.93, 55.56, 57.31, 63.15])"
   ]
  },
  {
   "cell_type": "markdown",
   "id": "2a15bfe9-0234-4987-b01d-8a3a127b58af",
   "metadata": {},
   "source": [
    "* Tracer un histogramme des données\n",
    "* Donner l'estimateur de la moyenne $m$ et de la variance $\\sigma^2$. Calculer les valeurs empiriques.\n",
    "* Donner un intervalle de confiance au niveau 95% de la masse moyenne m d’un oeuf.\n",
    "* Tester si la moyenne de cette variable est égale à 56."
   ]
  },
  {
   "cell_type": "code",
   "execution_count": null,
   "id": "8cf0b22e-d08a-4215-9e4c-dcb9f4cd215e",
   "metadata": {},
   "outputs": [],
   "source": []
  },
  {
   "cell_type": "markdown",
   "id": "a88fa686-6edb-42c7-9d5c-ce3e3a417b81",
   "metadata": {},
   "source": [
    " ## Test de conformité  (TD4 exo2)\n",
    " \n",
    "Dans une agence de location de voitures, le patron veut savoir quelles sont les voitures qui n’ont roulé qu’en ville pour les revendre immédiatement. Pour cela, il y a dans chaque voiture une boîte noire qui enregistre le nombre d’heures pendant lesquelles la voiture est restée au point mort, au premier rapport, au deuxième rapport,..., au cinquième rapport. \n",
    "\n",
    "On sait qu’une voiture qui ne roule qu’en ville passe en moyenne 10% de son temps au point mort, 5% en première, 30% en seconde, 30% en troisième, 20% en quatrième, et 5% en cinquième. On décide de faire un test du $\\chi^2$ pour savoir si une voiture n’a roulé qu’en ville\n",
    "ou non.\n",
    "\n",
    "* Sur une première voiture, on constate sur 2000 heures de conduite : 210h au point mort, 94h en première, 564h en seconde, 630h en troisième, 390h en quatrième, et 112h en cinquièeme. Cette voiture n’a-t-elle fait que rester en ville ?\n",
    "\n",
    "* Avec une autre voiture, on obtient les données suivantes : 220 h au point mort, 80h en première, 340h en seconde, 600 h en troisième, 480h en quatrième et 280h en cinquième."
   ]
  },
  {
   "cell_type": "code",
   "execution_count": null,
   "id": "9aa0bb88-a535-4e61-a0df-c4881c2fe7db",
   "metadata": {},
   "outputs": [],
   "source": []
  }
 ],
 "metadata": {
  "kernelspec": {
   "display_name": "Python 3 (ipykernel)",
   "language": "python",
   "name": "python3"
  },
  "language_info": {
   "codemirror_mode": {
    "name": "ipython",
    "version": 3
   },
   "file_extension": ".py",
   "mimetype": "text/x-python",
   "name": "python",
   "nbconvert_exporter": "python",
   "pygments_lexer": "ipython3",
   "version": "3.9.12"
  }
 },
 "nbformat": 4,
 "nbformat_minor": 5
}
